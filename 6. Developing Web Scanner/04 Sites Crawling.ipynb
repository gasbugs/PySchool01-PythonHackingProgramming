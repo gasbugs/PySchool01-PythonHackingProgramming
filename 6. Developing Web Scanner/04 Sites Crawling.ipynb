{
 "cells": [
  {
   "cell_type": "markdown",
   "metadata": {},
   "source": [
    "# 03 Sites Crawling\n",
    "\n",
    "## 1) 하이퍼 링크 조사"
   ]
  },
  {
   "cell_type": "code",
   "execution_count": 1,
   "metadata": {
    "collapsed": true
   },
   "outputs": [],
   "source": [
    "from bs4 import BeautifulSoup\n",
    "from urllib.request import urlopen\n",
    "import re\n",
    "\n",
    "host = \"https://www.naver.com/\"\n",
    "html = urlopen(host)\n",
    "bsObj = BeautifulSoup(html, \"html.parser\")"
   ]
  },
  {
   "cell_type": "code",
   "execution_count": 2,
   "metadata": {
    "scrolled": true
   },
   "outputs": [
    {
     "data": {
      "text/plain": [
       "{'http://blog.naver.com/kahp_blog/221096651193?viewType=pc',\n",
       " 'http://blog.naver.com/nhicblog/221100543029?viewType=pc',\n",
       " 'http://book.naver.com/',\n",
       " 'http://business.naver.com/',\n",
       " 'http://comic.naver.com/',\n",
       " 'http://datalab.naver.com/keyword/realtimeDetail.naver?datetime=2017-09-27T01:51:30&query=%EB%82%A0+%EB%B3%B4%EB%9F%AC+%EC%99%80%EC%9A%94&where=main',\n",
       " 'http://datalab.naver.com/keyword/realtimeDetail.naver?datetime=2017-09-27T01:51:30&query=%EB%82%B4%EC%9D%BC%EB%82%A0%EC%94%A8&where=main',\n",
       " 'http://datalab.naver.com/keyword/realtimeDetail.naver?datetime=2017-09-27T01:51:30&query=%EB%86%8D%ED%98%91+%EC%B1%84%EC%9A%A9&where=main',\n",
       " 'http://datalab.naver.com/keyword/realtimeDetail.naver?datetime=2017-09-27T01:51:30&query=%EB%8F%84%EB%A5%B4%ED%8A%B8%EB%AC%B8%ED%8A%B8+%EB%A0%88%EC%95%8C%EB%A7%88%EB%93%9C%EB%A6%AC%EB%93%9C&where=main',\n",
       " 'http://datalab.naver.com/keyword/realtimeDetail.naver?datetime=2017-09-27T01:51:30&query=%EB%91%90%EC%82%B0+%EC%B1%84%EC%9A%A9&where=main',\n",
       " 'http://datalab.naver.com/keyword/realtimeDetail.naver?datetime=2017-09-27T01:51:30&query=%EB%9E%80%EC%A0%9C%EB%A6%AC+%EC%86%8C%EB%85%80%EC%8B%9C%EB%8C%80&where=main',\n",
       " 'http://datalab.naver.com/keyword/realtimeDetail.naver?datetime=2017-09-27T01:51:30&query=%EB%A6%AC%EB%8B%88%EC%A7%80m&where=main',\n",
       " 'http://datalab.naver.com/keyword/realtimeDetail.naver?datetime=2017-09-27T01:51:30&query=%EC%82%AC%EB%9E%91%EC%9D%98+%EC%98%A8%EB%8F%84&where=main',\n",
       " 'http://datalab.naver.com/keyword/realtimeDetail.naver?datetime=2017-09-27T01:51:30&query=%EC%84%9C%ED%98%84%EC%A7%84&where=main',\n",
       " 'http://datalab.naver.com/keyword/realtimeDetail.naver?datetime=2017-09-27T01:51:30&query=%EC%86%A1%EC%84%A0%EB%AF%B8&where=main',\n",
       " 'http://datalab.naver.com/keyword/realtimeDetail.naver?datetime=2017-09-27T01:51:30&query=%EC%8B%A0%EA%B3%BC%ED%95%A8%EA%BB%98&where=main',\n",
       " 'http://datalab.naver.com/keyword/realtimeDetail.naver?datetime=2017-09-27T01:51:30&query=%EC%95%84%EB%A5%B4%EA%B3%A4&where=main',\n",
       " 'http://datalab.naver.com/keyword/realtimeDetail.naver?datetime=2017-09-27T01:51:30&query=%EC%96%91%EC%84%B8%EC%A2%85&where=main',\n",
       " 'http://datalab.naver.com/keyword/realtimeDetail.naver?datetime=2017-09-27T01:51:30&query=%EC%B1%94%ED%94%BC%EC%96%B8%EC%8A%A4%EB%A6%AC%EA%B7%B8&where=main',\n",
       " 'http://datalab.naver.com/keyword/realtimeDetail.naver?datetime=2017-09-27T01:51:30&query=%EC%B2%A0%EC%9B%90&where=main',\n",
       " 'http://datalab.naver.com/keyword/realtimeDetail.naver?datetime=2017-09-27T01:51:30&query=%EC%BD%94%EB%B9%97&where=main',\n",
       " 'http://datalab.naver.com/keyword/realtimeDetail.naver?datetime=2017-09-27T01:51:30&query=%ED%82%B9%EC%8A%A4%EB%A7%A82&where=main',\n",
       " 'http://datalab.naver.com/keyword/realtimeDetail.naver?datetime=2017-09-27T01:51:30&query=%ED%86%A0%ED%8A%B8%EB%84%98&where=main',\n",
       " 'http://datalab.naver.com/keyword/realtimeDetail.naver?datetime=2017-09-27T01:51:30&query=cgv&where=main',\n",
       " 'http://datalab.naver.com/keyword/realtimeDetail.naver?datetime=2017-09-27T01:51:30&query=gs%EC%B9%BC%ED%85%8D%EC%8A%A4+%EC%B1%84%EC%9A%A9&where=main',\n",
       " 'http://datalab.naver.com/keyword/realtimeList.naver?where=main',\n",
       " 'http://dic.naver.com/',\n",
       " 'http://entertain.naver.com/home',\n",
       " 'http://happybean.naver.com/club/52165/tiding/82224?articleSubjectNo=27210&pageNumber=1',\n",
       " 'http://happybean.naver.com/main/SectionMain.nhn',\n",
       " 'http://help.naver.com/support/alias/contents2/naverhome/naverhome_1.naver',\n",
       " 'http://help.naver.com/support/alias/search/word/word_5.naver',\n",
       " 'http://jr.naver.com',\n",
       " 'http://kin.naver.com/',\n",
       " 'http://land.naver.com/',\n",
       " 'http://mail.naver.com/',\n",
       " 'http://map.naver.com/',\n",
       " 'http://movie.naver.com/',\n",
       " 'http://music.naver.com',\n",
       " 'http://news.naver.com/',\n",
       " 'http://news.naver.com/main/list.nhn?mode=LPOD&mid=sec&sid1=001&sid2=140&oid=001&isYeonhapFlash=Y',\n",
       " 'http://news.naver.com/main/list.nhn?mode=LPOD&mid=sec&sid1=001&sid2=140&oid=001&isYeonhapFlash=Y&aid=0009574460',\n",
       " 'http://news.naver.com/main/list.nhn?mode=LPOD&mid=sec&sid1=001&sid2=140&oid=001&isYeonhapFlash=Y&aid=0009574601',\n",
       " 'http://news.naver.com/main/list.nhn?mode=LPOD&mid=sec&sid1=001&sid2=140&oid=001&isYeonhapFlash=Y&aid=0009574622',\n",
       " 'http://news.naver.com/main/list.nhn?mode=LPOD&mid=sec&sid1=001&sid2=140&oid=001&isYeonhapFlash=Y&aid=0009574658',\n",
       " 'http://news.naver.com/main/list.nhn?mode=LPOD&mid=sec&sid1=001&sid2=140&oid=001&isYeonhapFlash=Y&aid=0009574674',\n",
       " 'http://news.naver.com/main/list.nhn?mode=LPOD&mid=sec&sid1=001&sid2=140&oid=001&isYeonhapFlash=Y&aid=0009574718',\n",
       " 'http://news.naver.com/main/list.nhn?mode=LPOD&mid=sec&sid1=001&sid2=140&oid=001&isYeonhapFlash=Y&aid=0009574746',\n",
       " 'http://news.naver.com/main/list.nhn?mode=LPOD&mid=sec&sid1=001&sid2=140&oid=001&isYeonhapFlash=Y&aid=0009574751',\n",
       " 'http://news.naver.com/main/list.nhn?mode=LPOD&mid=sec&sid1=001&sid2=140&oid=001&isYeonhapFlash=Y&aid=0009574792',\n",
       " 'http://news.naver.com/main/list.nhn?mode=LPOD&mid=sec&sid1=001&sid2=140&oid=001&isYeonhapFlash=Y&aid=0009574794',\n",
       " 'http://news.naver.com/main/list.nhn?mode=LS2D&mid=shm&sid1=103&sid2=241&rc=N',\n",
       " 'http://news.naver.com/main/main.nhn?mode=LSD&mid=shm&sid1=101',\n",
       " 'http://news.naver.com/main/ranking/popularDay.nhn?mid=etc&sid1=111',\n",
       " 'http://news.naver.com/main/read.nhn?mode=LSD&mid=sec&sid1=103&oid=001&aid=0009550612&viewType=pc&rc=N',\n",
       " 'http://news.naver.com/main/read.nhn?mode=LSD&mid=sec&sid1=103&oid=421&aid=0002954562&viewType=pc&rc=N',\n",
       " 'http://newsstand.naver.com/',\n",
       " 'http://newsstand.naver.com/?list=ct1&pcode=009',\n",
       " 'http://newsstand.naver.com/?list=ct1&pcode=011',\n",
       " 'http://newsstand.naver.com/?list=ct1&pcode=022',\n",
       " 'http://newsstand.naver.com/?list=ct1&pcode=023',\n",
       " 'http://newsstand.naver.com/?list=ct1&pcode=025',\n",
       " 'http://newsstand.naver.com/?list=ct1&pcode=032',\n",
       " 'http://newsstand.naver.com/?list=ct1&pcode=057',\n",
       " 'http://newsstand.naver.com/?list=ct1&pcode=092',\n",
       " 'http://newsstand.naver.com/?list=ct1&pcode=109',\n",
       " 'http://newsstand.naver.com/?list=ct1&pcode=139',\n",
       " 'http://newsstand.naver.com/?list=ct1&pcode=241',\n",
       " 'http://newsstand.naver.com/?list=ct1&pcode=314',\n",
       " 'http://newsstand.naver.com/?list=ct6&pcode=108',\n",
       " 'http://newsstand.naver.com/?list=ct6&pcode=940',\n",
       " 'http://newsstand.naver.com/?list=ct7&pcode=075',\n",
       " 'http://newsstand.naver.com/?list=ct7&pcode=356',\n",
       " 'http://newsstand.naver.com/?list=ct8&pcode=338',\n",
       " 'http://newsstand.naver.com/?list=ct8&pcode=387',\n",
       " 'http://newsstand.naver.com/config.html',\n",
       " 'http://pay.naver.com/',\n",
       " 'http://post.naver.com/subject/list.nhn?navigationType=push&categoryNo=31&subjectType=CATEGORY&mainMenu=HEALTH',\n",
       " 'http://post.naver.com/viewer/postView.nhn?volumeNo=6888694&memberNo=15470144&mainMenu=HEALTH',\n",
       " 'http://post.naver.com/viewer/postView.nhn?volumeNo=9604691&memberNo=35540755&mainMenu=HEALTH',\n",
       " 'http://post.naver.com/viewer/postView.nhn?volumeNo=9604712&memberNo=11195360&mainMenu=HEALTH',\n",
       " 'http://post.naver.com/viewer/postView.nhn?volumeNo=9640653&memberNo=35698296&mainMenu=HEALTH',\n",
       " 'http://post.naver.com/viewer/postView.nhn?volumeNo=9645783&memberNo=15314186&mainMenu=HEALTH',\n",
       " 'http://post.naver.com/viewer/postView.nhn?volumeNo=9655725&memberNo=2112650&mainMenu=HEALTH',\n",
       " 'http://post.naver.com/viewer/postView.nhn?volumeNo=9661503&memberNo=11770059&mainMenu=HEALTH',\n",
       " 'http://post.naver.com/viewer/postView.nhn?volumeNo=9662773&memberNo=12478241&mainMenu=HEALTH',\n",
       " 'http://post.naver.com/viewer/postView.nhn?volumeNo=9670148&memberNo=29931747&mainMenu=HEALTH',\n",
       " 'http://post.naver.com/viewer/postView.nhn?volumeNo=9674379&memberNo=28656674&mainMenu=HEALTH',\n",
       " 'http://post.naver.com/viewer/postView.nhn?volumeNo=9763792&memberNo=6289885&mainMenu=HEALTH',\n",
       " 'http://search.naver.com/search.naver?where=nexearch&query=%EB%82%A0+%EB%B3%B4%EB%9F%AC+%EC%99%80%EC%9A%94&sm=top_lve&ie=utf8',\n",
       " 'http://search.naver.com/search.naver?where=nexearch&query=%EB%82%B4%EC%9D%BC%EB%82%A0%EC%94%A8&sm=top_lve&ie=utf8',\n",
       " 'http://search.naver.com/search.naver?where=nexearch&query=%EB%86%8D%ED%98%91+%EC%B1%84%EC%9A%A9&sm=top_lve&ie=utf8',\n",
       " 'http://search.naver.com/search.naver?where=nexearch&query=%EB%8F%84%EB%A5%B4%ED%8A%B8%EB%AC%B8%ED%8A%B8+%EB%A0%88%EC%95%8C%EB%A7%88%EB%93%9C%EB%A6%AC%EB%93%9C&sm=top_lve&ie=utf8',\n",
       " 'http://search.naver.com/search.naver?where=nexearch&query=%EB%91%90%EC%82%B0+%EC%B1%84%EC%9A%A9&sm=top_lve&ie=utf8',\n",
       " 'http://search.naver.com/search.naver?where=nexearch&query=%EB%9E%80%EC%A0%9C%EB%A6%AC+%EC%86%8C%EB%85%80%EC%8B%9C%EB%8C%80&sm=top_lve&ie=utf8',\n",
       " 'http://search.naver.com/search.naver?where=nexearch&query=%EB%A6%AC%EB%8B%88%EC%A7%80m&sm=top_lve&ie=utf8',\n",
       " 'http://search.naver.com/search.naver?where=nexearch&query=%EC%82%AC%EB%9E%91%EC%9D%98+%EC%98%A8%EB%8F%84&sm=top_lve&ie=utf8',\n",
       " 'http://search.naver.com/search.naver?where=nexearch&query=%EC%84%9C%ED%98%84%EC%A7%84&sm=top_lve&ie=utf8',\n",
       " 'http://search.naver.com/search.naver?where=nexearch&query=%EC%86%A1%EC%84%A0%EB%AF%B8&sm=top_lve&ie=utf8',\n",
       " 'http://search.naver.com/search.naver?where=nexearch&query=%EC%8B%A0%EA%B3%BC%ED%95%A8%EA%BB%98&sm=top_lve&ie=utf8',\n",
       " 'http://search.naver.com/search.naver?where=nexearch&query=%EC%95%84%EB%A5%B4%EA%B3%A4&sm=top_lve&ie=utf8',\n",
       " 'http://search.naver.com/search.naver?where=nexearch&query=%EC%96%91%EC%84%B8%EC%A2%85&sm=top_lve&ie=utf8',\n",
       " 'http://search.naver.com/search.naver?where=nexearch&query=%EC%B1%94%ED%94%BC%EC%96%B8%EC%8A%A4%EB%A6%AC%EA%B7%B8&sm=top_lve&ie=utf8',\n",
       " 'http://search.naver.com/search.naver?where=nexearch&query=%EC%B2%A0%EC%9B%90&sm=top_lve&ie=utf8',\n",
       " 'http://search.naver.com/search.naver?where=nexearch&query=%EC%BD%94%EB%B9%97&sm=top_lve&ie=utf8',\n",
       " 'http://search.naver.com/search.naver?where=nexearch&query=%ED%82%B9%EC%8A%A4%EB%A7%A82&sm=top_lve&ie=utf8',\n",
       " 'http://search.naver.com/search.naver?where=nexearch&query=%ED%86%A0%ED%8A%B8%EB%84%98&sm=top_lve&ie=utf8',\n",
       " 'http://search.naver.com/search.naver?where=nexearch&query=cgv&sm=top_lve&ie=utf8',\n",
       " 'http://search.naver.com/search.naver?where=nexearch&query=gs%EC%B9%BC%ED%85%8D%EC%8A%A4+%EC%B1%84%EC%9A%A9&sm=top_lve&ie=utf8',\n",
       " 'http://section.blog.naver.com/',\n",
       " 'http://section.cafe.naver.com/',\n",
       " 'http://sports.news.naver.com/',\n",
       " 'http://sports.news.naver.com/amatch/news/read.nhn?oid=452&aid=0000000702',\n",
       " 'http://sports.news.naver.com/basketball/index.nhn',\n",
       " 'http://sports.news.naver.com/basketballetc/news/read.nhn?oid=570&aid=0000000087',\n",
       " 'http://sports.news.naver.com/kbaseball/index.nhn',\n",
       " 'http://sports.news.naver.com/kbo/news/read.nhn?oid=076&aid=0003156553',\n",
       " 'http://sports.news.naver.com/kfootball/index.nhn',\n",
       " 'http://stock.naver.com/',\n",
       " 'http://terms.naver.com/list.nhn?cid=50871&categoryId=50871',\n",
       " 'http://terms.naver.com/list.nhn?cid=58946&categoryId=58946',\n",
       " 'http://terms.naver.com/medicineSearch.nhn',\n",
       " 'http://tv.naver.com/',\n",
       " 'http://tv.naver.com/p/health',\n",
       " 'http://tv.naver.com/v/1931543',\n",
       " 'http://whale.naver.com/',\n",
       " 'http://www.naver.com/NOTICE',\n",
       " 'http://www.naver.com/NOTICE/read/1100001014/10000000000030657694',\n",
       " 'https://calendar.naver.com',\n",
       " 'https://castbox.shopping.naver.com/shopbox/main.nhn?svgless=true',\n",
       " 'https://help.naver.com/',\n",
       " 'https://help.naver.com/support/alias/search/word/word_16.naver',\n",
       " 'https://help.naver.com/support/alias/search/word/word_17.naver',\n",
       " 'https://help.naver.com/support/alias/search/word/word_18.naver',\n",
       " 'https://help.naver.com/support/contents/contents.nhn?serviceNo=606&categoryNo=16659',\n",
       " 'https://nid.naver.com/nidlogin.login',\n",
       " 'https://nid.naver.com/nidlogin.login?url=https%3A%2F%2Fwww.naver.com',\n",
       " 'https://nid.naver.com/nidregister.form?url=https%3A%2F%2Fwww.naver.com',\n",
       " 'https://nid.naver.com/nidreminder.form',\n",
       " 'https://nid.naver.com/user/help.nhn?todo=idinquiry',\n",
       " 'https://smartplace.naver.com/'}"
      ]
     },
     "execution_count": 2,
     "metadata": {},
     "output_type": "execute_result"
    }
   ],
   "source": [
    "linkList = set()\n",
    "\n",
    "a = bsObj.findAll(\"a\", href=re.compile(\"^https?://[a-z,.]*naver\\.com\"))\n",
    "\n",
    "for link in a:\n",
    "    linkList.add(link[\"href\"])\n",
    "    \n",
    "set(linkList)"
   ]
  },
  {
   "cell_type": "code",
   "execution_count": 3,
   "metadata": {},
   "outputs": [
    {
     "data": {
      "text/plain": [
       "{'https://www.naver.com/',\n",
       " 'https://www.naver.com/policy/privacy.html',\n",
       " 'https://www.naver.com/policy/service.html',\n",
       " 'https://www.naver.com/policy/spamcheck.html',\n",
       " 'https://www.naver.com/policy/youthpolicy.html'}"
      ]
     },
     "execution_count": 3,
     "metadata": {},
     "output_type": "execute_result"
    }
   ],
   "source": [
    "linkList = set()\n",
    "\n",
    "a = bsObj.findAll(\"a\", href=re.compile(\"^\\/\"))\n",
    "\n",
    "for link in a:\n",
    "    linkList.add(host[:-1] + link[\"href\"])\n",
    "\n",
    "linkList"
   ]
  },
  {
   "cell_type": "code",
   "execution_count": 4,
   "metadata": {
    "scrolled": true
   },
   "outputs": [
    {
     "data": {
      "text/plain": [
       "{'https://www.naver.com/#',\n",
       " 'https://www.naver.com/#ANIMAL',\n",
       " 'https://www.naver.com/#BBOOM',\n",
       " 'https://www.naver.com/#BEAUTY',\n",
       " 'https://www.naver.com/#BUSINESS',\n",
       " 'https://www.naver.com/#CARGAME',\n",
       " 'https://www.naver.com/#CHINA',\n",
       " 'https://www.naver.com/#CULTURE',\n",
       " 'https://www.naver.com/#DESIGN',\n",
       " 'https://www.naver.com/#FARM',\n",
       " 'https://www.naver.com/#FINANCE',\n",
       " 'https://www.naver.com/#GAMEAPP',\n",
       " 'https://www.naver.com/#HEALTH',\n",
       " 'https://www.naver.com/#ITTECH',\n",
       " 'https://www.naver.com/#JOB',\n",
       " 'https://www.naver.com/#LAW',\n",
       " 'https://www.naver.com/#LIVING',\n",
       " 'https://www.naver.com/#LIVINGHOME',\n",
       " 'https://www.naver.com/#MOMKIDS',\n",
       " 'https://www.naver.com/#MOVIE',\n",
       " 'https://www.naver.com/#MUSIC',\n",
       " 'https://www.naver.com/#SCHOOL',\n",
       " 'https://www.naver.com/#SCIENCE',\n",
       " 'https://www.naver.com/#SHOW',\n",
       " 'https://www.naver.com/#SPORTS',\n",
       " 'https://www.naver.com/#TRAVEL',\n",
       " 'https://www.naver.com/#VIDEO',\n",
       " 'https://www.naver.com/#WEDDING',\n",
       " 'https://www.naver.com/#WITH',\n",
       " 'https://www.naver.com/#account',\n",
       " 'https://www.naver.com/#news_cast',\n",
       " 'https://www.naver.com/#shop_cast',\n",
       " 'https://www.naver.com/#themecast',\n",
       " 'https://www.naver.com/#time_square',\n",
       " 'https://www.naver.com/javascript:;',\n",
       " 'https://www.naver.com/more.html'}"
      ]
     },
     "execution_count": 4,
     "metadata": {},
     "output_type": "execute_result"
    }
   ],
   "source": [
    "linkList = set()\n",
    "\n",
    "a = bsObj.findAll(\"a\", href=re.compile(\"^[^http,\\/]\"))\n",
    "\n",
    "for link in a:\n",
    "    linkList.add(host + link[\"href\"])\n",
    "\n",
    "linkList"
   ]
  },
  {
   "cell_type": "markdown",
   "metadata": {},
   "source": [
    "## QUIZ 01\n",
    "\n",
    "다음 조건에 맞춰 [보안 뉴스](http://www.boannews.com/media/t_list.asp?kind=0)의 페이지의 기사 링크를 수집하세요.\n",
    "- 사이트의 하이퍼링크 조사\n",
    "- 사이트 링크 정규화(/abc.html --> www.xxx.com/abc.html)\n",
    "- /ad-info/, /custom/, /guest/, /media/ 중 기사를 포스팅하는 디렉터리만 출력"
   ]
  },
  {
   "cell_type": "code",
   "execution_count": null,
   "metadata": {
    "scrolled": true
   },
   "outputs": [],
   "source": [
    "# write your code\n",
    "\n",
    "from bs4 import BeautifulSoup\n",
    "from urllib.request import urlopen\n",
    "import re\n",
    "\n",
    "host = \"http://www.boannews.com/media/t_list.asp?kind=0\"\n",
    "html = urlopen(host)\n",
    "bsObj = BeautifulSoup(html, \"html.parser\")\n",
    "\n",
    "newsLink = None\n",
    "\n",
    "# wirte your code\n",
    "\n",
    "print(\"\")\n",
    "        \n",
    "\"\"\"\n",
    "Output:\n",
    "http://www.boannews.com/media/list.asp?kind=4\n",
    "http://www.boannews.com/media/view.asp?idx=55202&skind=5\n",
    "http://www.boannews.com/media/view.asp?idx=55230&kind=14\n",
    "http://www.boannews.com/media/view.asp?idx=55229&skind=O\n",
    "http://www.boannews.com/media/view.asp?idx=55228&kind=1\n",
    "http://www.boannews.com/media/view.asp?idx=55243&page=1&kind=3\n",
    "http://www.boannews.com/media/view.asp?idx=55124\n",
    "http://www.boannews.com/media/view.asp?idx=55160\n",
    "http://www.boannews.com/media/view.asp?idx=55228&skind=O\n",
    "http://www.boannews.com/media/view.asp?idx=55244\n",
    "\"\"\""
   ]
  },
  {
   "cell_type": "markdown",
   "metadata": {},
   "source": [
    "## 2) Robots.txt \n",
    "\n",
    "웹 크롤링을 하기 전에 알아둘 것!\n",
    "- 웹 사이트 루트에는 Robots.txt가 있다.\n",
    "- 웹 사이트에서 크롤링돼서는 안되는 부분들을 표시함으로 웹 보안을 유지\n",
    "- disallow한 항목들은 들어가서는 안됨!"
   ]
  },
  {
   "cell_type": "code",
   "execution_count": 5,
   "metadata": {},
   "outputs": [
    {
     "data": {
      "text/plain": [
       "User-agent: *\n",
       "Disallow: / "
      ]
     },
     "execution_count": 5,
     "metadata": {},
     "output_type": "execute_result"
    }
   ],
   "source": [
    "host = \"https://www.naver.com/robots.txt\"\n",
    "html = urlopen(host)\n",
    "bsObj = BeautifulSoup(html, \"html.parser\")\n",
    "\n",
    "bsObj"
   ]
  },
  {
   "cell_type": "code",
   "execution_count": 6,
   "metadata": {
    "scrolled": true
   },
   "outputs": [
    {
     "data": {
      "text/plain": [
       "#\n",
       "# robots.txt\n",
       "#\n",
       "# This file is to prevent the crawling and indexing of certain parts\n",
       "# of your site by web crawlers and spiders run by sites like Yahoo!\n",
       "# and Google. By telling these \"robots\" where not to go on your site,\n",
       "# you save bandwidth and server resources.\n",
       "#\n",
       "# This file will be ignored unless it is at the root of your host:\n",
       "# Used:    http://example.com/robots.txt\n",
       "# Ignored: http://example.com/site/robots.txt\n",
       "#\n",
       "# For more information about the robots.txt standard, see:\n",
       "# http://www.robotstxt.org/wc/robots.html\n",
       "#\n",
       "# For syntax checking, see:\n",
       "# http://www.sxw.org.uk/computing/robots/check.html\n",
       "\n",
       "Sitemap: https://www.whitehouse.gov/sitemap-full.xml\n",
       "\n",
       "User-agent: *\n",
       "Crawl-delay: 10\n",
       "# CSS, JS, Images\n",
       "Allow: /misc/*.css$\n",
       "Allow: /misc/*.css?\n",
       "Allow: /misc/*.js$\n",
       "Allow: /misc/*.js?\n",
       "Allow: /misc/*.gif\n",
       "Allow: /misc/*.jpg\n",
       "Allow: /misc/*.jpeg\n",
       "Allow: /misc/*.png\n",
       "Allow: /modules/*.css$\n",
       "Allow: /modules/*.css?\n",
       "Allow: /modules/*.js$\n",
       "Allow: /modules/*.js?\n",
       "Allow: /modules/*.gif\n",
       "Allow: /modules/*.jpg\n",
       "Allow: /modules/*.jpeg\n",
       "Allow: /modules/*.png\n",
       "Allow: /profiles/*.css$\n",
       "Allow: /profiles/*.css?\n",
       "Allow: /profiles/*.js$\n",
       "Allow: /profiles/*.js?\n",
       "Allow: /profiles/*.gif\n",
       "Allow: /profiles/*.jpg\n",
       "Allow: /profiles/*.jpeg\n",
       "Allow: /profiles/*.png\n",
       "Allow: /themes/*.css$\n",
       "Allow: /themes/*.css?\n",
       "Allow: /themes/*.js$\n",
       "Allow: /themes/*.js?\n",
       "Allow: /themes/*.gif\n",
       "Allow: /themes/*.jpg\n",
       "Allow: /themes/*.jpeg\n",
       "Allow: /themes/*.png\n",
       "# Directories\n",
       "Disallow: /includes/\n",
       "Disallow: /misc/\n",
       "Disallow: /modules/\n",
       "Disallow: /profiles/\n",
       "Disallow: /scripts/\n",
       "Disallow: /themes/\n",
       "# Files\n",
       "Disallow: /CHANGELOG.txt\n",
       "Disallow: /cron.php\n",
       "Disallow: /INSTALL.mysql.txt\n",
       "Disallow: /INSTALL.pgsql.txt\n",
       "Disallow: /INSTALL.sqlite.txt\n",
       "Disallow: /install.php\n",
       "Disallow: /INSTALL.txt\n",
       "Disallow: /LICENSE.txt\n",
       "Disallow: /MAINTAINERS.txt\n",
       "Disallow: /update.php\n",
       "Disallow: /UPGRADE.txt\n",
       "Disallow: /xmlrpc.php\n",
       "# Paths (clean URLs)\n",
       "Disallow: /admin/\n",
       "Disallow: /comment/reply/\n",
       "Disallow: /filter/tips/\n",
       "Disallow: /node/add/\n",
       "Disallow: /search/\n",
       "Disallow: /user/register/\n",
       "Disallow: /user/password/\n",
       "Disallow: /user/login/\n",
       "Disallow: /user/logout/\n",
       "Disallow: /experiments/\n",
       "# Paths (no clean URLs)\n",
       "Disallow: /?q=admin/\n",
       "Disallow: /?q=comment/reply/\n",
       "Disallow: /?q=filter/tips/\n",
       "Disallow: /?q=node/add/\n",
       "Disallow: /?q=search/\n",
       "Disallow: /?q=user/password/\n",
       "Disallow: /?q=user/register/\n",
       "Disallow: /?q=user/login/\n",
       "Disallow: /?q=user/logout/\n",
       "Disallow: /?q=experiments/"
      ]
     },
     "execution_count": 6,
     "metadata": {},
     "output_type": "execute_result"
    }
   ],
   "source": [
    "host = \"https://www.whitehouse.gov/\"\n",
    "hostRobot = host + \"robots.txt\"\n",
    "html = urlopen(hostRobot)\n",
    "bsObj = BeautifulSoup(html, \"html.parser\")\n",
    "\n",
    "bsObj"
   ]
  },
  {
   "cell_type": "code",
   "execution_count": 7,
   "metadata": {
    "scrolled": true
   },
   "outputs": [
    {
     "name": "stdout",
     "output_type": "stream",
     "text": [
      "Disallow: /includes/\n",
      "Disallow: /misc/\n",
      "Disallow: /modules/\n",
      "Disallow: /profiles/\n",
      "Disallow: /scripts/\n",
      "Disallow: /themes/\n",
      "Disallow: /CHANGELOG.txt\n",
      "Disallow: /cron.php\n",
      "Disallow: /INSTALL.mysql.txt\n",
      "Disallow: /INSTALL.pgsql.txt\n",
      "Disallow: /INSTALL.sqlite.txt\n",
      "Disallow: /install.php\n",
      "Disallow: /INSTALL.txt\n",
      "Disallow: /LICENSE.txt\n",
      "Disallow: /MAINTAINERS.txt\n",
      "Disallow: /update.php\n",
      "Disallow: /UPGRADE.txt\n",
      "Disallow: /xmlrpc.php\n",
      "Disallow: /admin/\n",
      "Disallow: /comment/reply/\n",
      "Disallow: /filter/tips/\n",
      "Disallow: /node/add/\n",
      "Disallow: /search/\n",
      "Disallow: /user/register/\n",
      "Disallow: /user/password/\n",
      "Disallow: /user/login/\n",
      "Disallow: /user/logout/\n",
      "Disallow: /experiments/\n",
      "Disallow: /?q=admin/\n",
      "Disallow: /?q=comment/reply/\n",
      "Disallow: /?q=filter/tips/\n",
      "Disallow: /?q=node/add/\n",
      "Disallow: /?q=search/\n",
      "Disallow: /?q=user/password/\n",
      "Disallow: /?q=user/register/\n",
      "Disallow: /?q=user/login/\n",
      "Disallow: /?q=user/logout/\n",
      "Disallow: /?q=experiments/\n"
     ]
    }
   ],
   "source": [
    "data = bsObj.string\n",
    "\n",
    "for line in data.split(\"\\n\"):\n",
    "    if line.find(\"Disallow: \") == 0:\n",
    "        print(line)"
   ]
  },
  {
   "cell_type": "code",
   "execution_count": 8,
   "metadata": {
    "scrolled": true
   },
   "outputs": [
    {
     "data": {
      "text/plain": [
       "{'https://www.whitehouse.gov/?q=admin/',\n",
       " 'https://www.whitehouse.gov/?q=comment/reply/',\n",
       " 'https://www.whitehouse.gov/?q=experiments/',\n",
       " 'https://www.whitehouse.gov/?q=filter/tips/',\n",
       " 'https://www.whitehouse.gov/?q=node/add/',\n",
       " 'https://www.whitehouse.gov/?q=search/',\n",
       " 'https://www.whitehouse.gov/?q=user/login/',\n",
       " 'https://www.whitehouse.gov/?q=user/logout/',\n",
       " 'https://www.whitehouse.gov/?q=user/password/',\n",
       " 'https://www.whitehouse.gov/?q=user/register/',\n",
       " 'https://www.whitehouse.gov/CHANGELOG.txt',\n",
       " 'https://www.whitehouse.gov/INSTALL.mysql.txt',\n",
       " 'https://www.whitehouse.gov/INSTALL.pgsql.txt',\n",
       " 'https://www.whitehouse.gov/INSTALL.sqlite.txt',\n",
       " 'https://www.whitehouse.gov/INSTALL.txt',\n",
       " 'https://www.whitehouse.gov/LICENSE.txt',\n",
       " 'https://www.whitehouse.gov/MAINTAINERS.txt',\n",
       " 'https://www.whitehouse.gov/UPGRADE.txt',\n",
       " 'https://www.whitehouse.gov/admin/',\n",
       " 'https://www.whitehouse.gov/comment/reply/',\n",
       " 'https://www.whitehouse.gov/cron.php',\n",
       " 'https://www.whitehouse.gov/experiments/',\n",
       " 'https://www.whitehouse.gov/filter/tips/',\n",
       " 'https://www.whitehouse.gov/includes/',\n",
       " 'https://www.whitehouse.gov/install.php',\n",
       " 'https://www.whitehouse.gov/misc/',\n",
       " 'https://www.whitehouse.gov/modules/',\n",
       " 'https://www.whitehouse.gov/node/add/',\n",
       " 'https://www.whitehouse.gov/profiles/',\n",
       " 'https://www.whitehouse.gov/scripts/',\n",
       " 'https://www.whitehouse.gov/search/',\n",
       " 'https://www.whitehouse.gov/themes/',\n",
       " 'https://www.whitehouse.gov/update.php',\n",
       " 'https://www.whitehouse.gov/user/login/',\n",
       " 'https://www.whitehouse.gov/user/logout/',\n",
       " 'https://www.whitehouse.gov/user/password/',\n",
       " 'https://www.whitehouse.gov/user/register/',\n",
       " 'https://www.whitehouse.gov/xmlrpc.php'}"
      ]
     },
     "execution_count": 8,
     "metadata": {},
     "output_type": "execute_result"
    }
   ],
   "source": [
    "data = bsObj.string\n",
    "\n",
    "robots = set()\n",
    "\n",
    "for line in data.split(\"\\n\"):\n",
    "    if line.find(\"Disallow: \") == 0:\n",
    "        robots.add(host[:-1] + line.split(\"Disallow: \")[1])\n",
    "        \n",
    "robots"
   ]
  },
  {
   "cell_type": "markdown",
   "metadata": {},
   "source": [
    "## QUIZ 02\n",
    "\n",
    "보안뉴스 사이트의 robots.txt의 규정에 맞춰 **newsLink** 링크 검사하기\n",
    "- Disallow 링크 수집"
   ]
  },
  {
   "cell_type": "code",
   "execution_count": null,
   "metadata": {},
   "outputs": [],
   "source": [
    "host = \"http://www.boannews.com/\"\n",
    "hostRobot = host + \"robots.txt\"\n",
    "html = urlopen(hostRobot)\n",
    "bsObj = BeautifulSoup(html, \"html.parser\")\n",
    "\n",
    "data = bsObj.string\n",
    "robots = set()\n",
    "\n",
    "## write your code for robots\n",
    "\n",
    "print(robots)\n",
    "\n",
    "\n",
    "\"\"\"\n",
    "Output:\n",
    "{'http://www.boannews.com/secu_admin/'}\n",
    "\"\"\""
   ]
  },
  {
   "cell_type": "markdown",
   "metadata": {},
   "source": [
    "- Disallow 링크를 사용하여 적합성 확인"
   ]
  },
  {
   "cell_type": "code",
   "execution_count": null,
   "metadata": {},
   "outputs": [],
   "source": [
    "newsLink.add(\"http://www.boannews.com/secu_admin/\")\n",
    "\n",
    "## write your code for robots\n",
    "        \n",
    "        \n",
    "\"\"\"\n",
    "Output:\n",
    "http://www.boannews.com/media/list.asp?kind=2 is allowed\n",
    "http://www.boannews.com/custom/news_jebo.asp is allowed\n",
    "http://www.boannews.com/media/view.asp?idx=55240&kind=14 is allowed\n",
    "http://www.boannews.com/media/view.asp?idx=55211&kind=14 is allowed\n",
    "http://www.boannews.com/media/view.asp?idx=55190&page=1&kind=3 is allowed\n",
    "http://www.boannews.com/ad_info/ad_info02.asp?kind=02 is allowed\n",
    "http://www.boannews.com/media/view.asp?idx=55245&page=1&kind=1 is allowed\n",
    "http://www.boannews.com/media/view.asp?idx=55227&page=1&kind=2 is allowed\n",
    "http://www.boannews.com/media/view.asp?idx=55222&page=1&kind=2 is allowed\n",
    "http://www.boannews.com/media/s_list.asp?skind=i is allowed\n",
    "http://www.boannews.com/media/view.asp?idx=55223&page=1&kind=2 is allowed\n",
    "http://www.boannews.com/secu_admin/ isn't allowed\n",
    "\"\"\""
   ]
  },
  {
   "cell_type": "markdown",
   "metadata": {},
   "source": [
    "## 3) 전체 사이트 내부를 모두 조사\n",
    "\n",
    "- 재귀적 구성\n",
    "- 중복 링크와 robots.txt에 대해서 제외\n",
    "- 실행하지 않음"
   ]
  },
  {
   "cell_type": "code",
   "execution_count": null,
   "metadata": {
    "scrolled": true
   },
   "outputs": [],
   "source": [
    "실행하지 마세요!\n",
    "\n",
    "\n",
    "\n",
    "linkList = set()\n",
    "robots = set()\n",
    "\n",
    "def crawling(host):\n",
    "    if host[-1] != \"/\":\n",
    "        host + \"/\"\n",
    "    html = urlopen(host)\n",
    "    bsObj = BeautifulSoup(html, \"html.parser\")\n",
    "    hostname = host.split(\"://\")[1]\n",
    "    hostname.replace(\".\", \"\\\\.\")\n",
    "    \n",
    "    a = bsObj.findAll(\"a\", href=re.compile(\"^http[s]+://[a-z,.]*\" + host.replace(\".\", \"\\.\")))\n",
    "    \n",
    "    for link in a:\n",
    "        if (link not in linkList) and (link not in robots):\n",
    "            crwaling()\n",
    "            linkList.add(link[\"href\"])\n",
    "        \n",
    "    a = bsObj.findAll(\"a\", href=re.compile(\"^\\/\"))\n",
    "\n",
    "    for link in a:\n",
    "        link = host + link\n",
    "        if (link not in linkList) and (link not in robots):\n",
    "            crwaling(link)\n",
    "            linkList.add(host + link[\"href\"])\n",
    "        \n",
    "    a = bsObj.findAll(\"a\", href=re.compile(\"^[^http,\\/]\"))\n",
    "\n",
    "    for link in a:\n",
    "        if (link not in linkList) and (link not in robots):\n",
    "            crwaling(link)\n",
    "            linkList.add(host + link[\"href\"])\n",
    "        \n",
    "host = \"https://www.whitehouse.gov/\"\n",
    "crawling(host)"
   ]
  },
  {
   "cell_type": "markdown",
   "metadata": {},
   "source": [
    "## QUIZ 03\n",
    "\n",
    "다음 조건에 맞춰서 보안뉴스 기사 링크에 대한 정보를 저장하자.\n",
    "- 링크에 대하여 dict 형태로 저장할 것\n",
    "- 저장하는 데이터는 html 형태로 저장할 것\n",
    "- newLink의 최초 10개의 데이터만 테스트할 것"
   ]
  },
  {
   "cell_type": "code",
   "execution_count": null,
   "metadata": {
    "collapsed": true
   },
   "outputs": [],
   "source": [
    "allowlist = {}\n",
    "newsList = list(newsLink)\n",
    "\n",
    "for a in newsList[:10]:\n",
    "    ## write your code \n",
    "    pass"
   ]
  },
  {
   "cell_type": "markdown",
   "metadata": {},
   "source": [
    "- 결과는 아래와 같이 출력되어야 함"
   ]
  },
  {
   "cell_type": "code",
   "execution_count": null,
   "metadata": {
    "scrolled": true
   },
   "outputs": [],
   "source": [
    "print(allowlist.keys())\n",
    "\n",
    "\"\"\"\n",
    "Output:\n",
    "dict_keys(['http://www.boannews.com/media/poll_02.asp?idx=165', 'http://www.boannews.com/media/list.asp?kind=1', 'http://www.boannews.com/media/s_list.asp?skind=i', 'http://www.boannews.com/custom/ad_info01.asp?kind=9', 'http://www.boannews.com/media/view.asp?idx=55219&skind=5', 'http://www.boannews.com/media/view.asp?idx=55177', 'http://www.boannews.com/custom/news_rss.asp', 'http://www.boannews.com/media/view.asp?idx=55230&kind=14', 'http://www.boannews.com/media/list.asp?kind=4'])\n",
    "\"\"\""
   ]
  },
  {
   "cell_type": "code",
   "execution_count": null,
   "metadata": {},
   "outputs": [],
   "source": [
    "for (index, key) in enumerate(allowlist):\n",
    "    print(\"Index : {}\".format(index))\n",
    "    print(\"Key : {}\".format(key))\n",
    "    print(\"value : {}\".format(allowlist[key]))\n",
    "    break\n",
    "\n",
    "\"\"\"\n",
    "Output:\n",
    "Index : 0\n",
    "Key : http://www.boannews.com/custom/member_join.asp\n",
    "value : <html lang=\"ko\" xml:lang=\"ko\" xmlns=\"http://www.w3.org/1999/xhtml\">\n",
    "<head>\n",
    "<title>보안뉴스</title>\n",
    "<meta content=\"http://www.boannews.com/images/top/boannews_icon2.png\" itemprop=\"image\">\n",
    "\"\"\""
   ]
  },
  {
   "cell_type": "code",
   "execution_count": null,
   "metadata": {
    "collapsed": true
   },
   "outputs": [],
   "source": []
  }
 ],
 "metadata": {
  "anaconda-cloud": {},
  "kernelspec": {
   "display_name": "Python 3",
   "language": "python",
   "name": "python3"
  },
  "language_info": {
   "codemirror_mode": {
    "name": "ipython",
    "version": 3
   },
   "file_extension": ".py",
   "mimetype": "text/x-python",
   "name": "python",
   "nbconvert_exporter": "python",
   "pygments_lexer": "ipython3",
   "version": "3.5.0"
  }
 },
 "nbformat": 4,
 "nbformat_minor": 1
}
